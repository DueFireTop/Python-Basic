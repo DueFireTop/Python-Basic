{
 "cells": [
  {
   "cell_type": "markdown",
   "metadata": {},
   "source": [
    "在开发程序时，很容易遇到一个情景：某些代码在整个项目中需要被用到很多次，为了提高编写的效率以及代码的重用，所以把具有独立功能的代码块组织为一个小模块，这就是函数的概念和作用"
   ]
  },
  {
   "cell_type": "code",
   "execution_count": 1,
   "metadata": {},
   "outputs": [
    {
     "name": "stdout",
     "output_type": "stream",
     "text": [
      "---------------------------\n",
      "info =  haha\n",
      "---------------------------\n"
     ]
    }
   ],
   "source": [
    "# 定义一个函数，完成打印信息的功能\n",
    "def print_info(info):\n",
    "    print(\"---------------------------\")\n",
    "    print(\"info = \", info)\n",
    "    print(\"---------------------------\")\n",
    "\n",
    "print_info(\"haha\")"
   ]
  },
  {
   "cell_type": "code",
   "execution_count": 2,
   "metadata": {},
   "outputs": [
    {
     "name": "stdout",
     "output_type": "stream",
     "text": [
      "20\n"
     ]
    }
   ],
   "source": [
    "def my_multi(a, b):\n",
    "    return a * b\n",
    "\n",
    "print(my_multi(4, 5))"
   ]
  },
  {
   "cell_type": "markdown",
   "metadata": {},
   "source": [
    "# 缺省形参\n",
    "缺省形参：形参设定默认值，成为缺省参数，也叫默认参数、\n",
    "- 调用函数时，如果没有传入默认参数对应的实参，则使用默认值\n",
    "- 默认参数必须在普通参数后面"
   ]
  },
  {
   "cell_type": "code",
   "execution_count": 6,
   "metadata": {},
   "outputs": [
    {
     "name": "stdout",
     "output_type": "stream",
     "text": [
      "21\n",
      "20\n",
      "13\n",
      "7\n"
     ]
    }
   ],
   "source": [
    "def my_multi(a = 7, b = 3):\n",
    "    return a * b\n",
    "\n",
    "print(my_multi())\n",
    "print(my_multi(4, 5))\n",
    "\n",
    "def my_sum(a, b = 7):\n",
    "    return a + b\n",
    "\n",
    "print(my_sum(6))\n",
    "print(my_sum(5, 2))"
   ]
  },
  {
   "cell_type": "markdown",
   "metadata": {},
   "source": [
    "# 形参的不定长参数\n",
    "- 元组型不定长参数：形参变量名前面加上一个*，这个参数则为元组型不定长参数。元组型可变形参必须在形参列表的最后边\n",
    "- 字典型不定长参数：定义参数时需要在形参名前添加**，则为字典型不定长参数。字典型可变形参必须在形参列表的最后边"
   ]
  },
  {
   "cell_type": "code",
   "execution_count": 7,
   "metadata": {},
   "outputs": [
    {
     "name": "stdout",
     "output_type": "stream",
     "text": [
      "18\n"
     ]
    }
   ],
   "source": [
    "def func(*arg):\n",
    "    sum = 0\n",
    "    for i in arg:\n",
    "        sum += i\n",
    "    return sum\n",
    "\n",
    "print(func(3, 4, 5, 6))"
   ]
  },
  {
   "cell_type": "markdown",
   "metadata": {},
   "source": [
    "**函数参数的关键要点总结：**\n",
    "- 缺省参数需要在非缺省参数之后\n",
    "- 关键字参数需要在位置参数之后\n",
    "- 所有传递的关键字参数必须有对应参数，并且顺序不重要\n",
    "- 参数只能赋值一次\n",
    "- 缺省参数是可选参数，可以不传"
   ]
  },
  {
   "cell_type": "markdown",
   "metadata": {},
   "source": [
    "# 函数的返回值\n",
    "“返回值”，就是程序中函数完成一件事后，最后给调用者的结果。想要在函数中把结果返回给调用者，需要在函数中使用 return 关键字。\n",
    "\n",
    "注意，当一个函数返回一个数据，如果想要用这个数据，就需要保存了。\n",
    "\n",
    "在python中，可以返回多个值，方法是在 return 后将多个返回值用逗号隔开。"
   ]
  },
  {
   "cell_type": "markdown",
   "metadata": {},
   "source": [
    "# 函数中的变量\n",
    "- 局部变量\n",
    "\n",
    "    在函数内部定义的变量\n",
    "\n",
    "    局部变量的作用是为了实现在函数中临时保存数据需要而定义的变量\n",
    "- 全局变量\n",
    "\n",
    "    如果一个变量既能在一个函数中使用，也可以在其他函数中使用，这样的变量就是全局变量\n",
    "\n",
    "    如果全局变量的名字和局部变量的名字相同时，那么函数使用的时局部变量"
   ]
  },
  {
   "cell_type": "markdown",
   "metadata": {},
   "source": [
    "## 全局变量的修改\n",
    "对于不可变的数据类型来说（数字、字符串、元组），如果不适用 global 就尝试在函数中修改全局变量会引起报错\n",
    "\n",
    "在函数中使用 global 声明全局变量时，修改全局变量的本质就是修改全局变量的指向，即将全局变量指向新的数据\n",
    "\n",
    "对于不可变类型的全局变量来说，因其指向的数据不能修改，所以不使用 global 时无法修改全局变量\n",
    "\n",
    "对于可变类型的全局变量来说（列表、字典、集合），因其指向的数据可以修改，所以不适用 global 时也可以修改全局变量"
   ]
  },
  {
   "cell_type": "code",
   "execution_count": 11,
   "metadata": {},
   "outputs": [
    {
     "name": "stdout",
     "output_type": "stream",
     "text": [
      "pre_out a_id =  140731795280872\n",
      "inner a =  8\n",
      "inner a_id =  140731795280904\n",
      "out a =  8\n",
      "out a_id =  140731795280904\n"
     ]
    }
   ],
   "source": [
    "a = 7 \n",
    "print(\"pre_out a_id = \", id(a))\n",
    "def func():\n",
    "    \n",
    "    global a # 如果不添加 global 关键字，会报错：# UnboundLocalError: cannot access local variable 'a' where it is not associated with a value\n",
    "    a += 1\n",
    "    print(\"inner a = \", a)\n",
    "    print(\"inner a_id = \", id(a))\n",
    "\n",
    "func()\n",
    "print(\"out a = \", a)\n",
    "print(\"out a_id = \", id(a))"
   ]
  },
  {
   "cell_type": "markdown",
   "metadata": {},
   "source": [
    "# 高级函数用法\n",
    "- 递归函数\n",
    "- 面向对象编程\n",
    "\n",
    "    匿名函数是用关键词 lambda 创建的小型函数。这种函数得名源于定义时，省略了 def 的标准步骤"
   ]
  },
  {
   "cell_type": "code",
   "execution_count": 12,
   "metadata": {},
   "outputs": [
    {
     "name": "stdout",
     "output_type": "stream",
     "text": [
      "6\n"
     ]
    }
   ],
   "source": [
    "# 阶乘\n",
    "def func_multi(n):\n",
    "    if n > 1:\n",
    "        return n * func_multi(n-1)\n",
    "    else:\n",
    "        return 1\n",
    "\n",
    "print(func_multi(3))"
   ]
  },
  {
   "cell_type": "code",
   "execution_count": 16,
   "metadata": {},
   "outputs": [
    {
     "name": "stdout",
     "output_type": "stream",
     "text": [
      "11\n"
     ]
    }
   ],
   "source": [
    "# lambda 函数：两数相加\n",
    "func_sum = lambda a, b: a + b\n",
    "print(func_sum(5, 6))"
   ]
  },
  {
   "cell_type": "markdown",
   "metadata": {},
   "source": [
    "# python中的文件操作函数\n",
    "- open(文件名, 访问模式)\n",
    "- close()\n",
    "\n",
    "**访问模式：**\n",
    "- r：只读方式打开文件。文件的指针会放在文件的开头\n",
    "- w：打开一个文件只用于写入。如果该文件已经存在则将其覆盖\n",
    "- a：打开一个文件用于追加。如果该文件已经存在，文件指针将会放在文件的结尾\n",
    "- r+：打开一个文件用于读写。文件的指针将会放在文件的开头\n",
    "- w+：打开一个文件用于读写。如果该文件已经存在则将其覆盖\n",
    "- a+：打开一个文件用于读写。如果该文件已经存在，文件指针将会放在文件的结尾"
   ]
  },
  {
   "cell_type": "code",
   "execution_count": 35,
   "metadata": {},
   "outputs": [
    {
     "name": "stdout",
     "output_type": "stream",
     "text": [
      "hello\n",
      "------------------------------\n",
      " world, I am hear\n"
     ]
    }
   ],
   "source": [
    "new_file_1 = open('./document_test/test_1.txt', 'w')\n",
    "new_file_1.write(\"hello world, I am hear\")\n",
    "new_file_1.close()\n",
    "\n",
    "read_file_1 = open('./document_test/test_1.txt', 'r')\n",
    "content = read_file_1.read(5)\n",
    "print(content)\n",
    "\n",
    "print(\"-\" * 30)\n",
    "\n",
    "content_1 = read_file_1.read()\n",
    "print(content_1)\n",
    "\n"
   ]
  },
  {
   "cell_type": "markdown",
   "metadata": {},
   "source": [
    "**注意：**\n",
    "\n",
    "    如果使用读了很多次，那么后面读取的数据是从上次读完后的位置开始的\n",
    "\n",
    "    此外，除了read()函数，还有一些其他函数也可以完成读取任务，具体如下：\n",
    "        1. readlines()：可以按照行的方式把整个文件中的内容进行一次性读取，并且返回的是一个列表，其中每一行的数据为一个元素\n",
    "        2. readline()：用于读取文件中的一行，包含最后的换行符 \"\\n\""
   ]
  },
  {
   "cell_type": "markdown",
   "metadata": {},
   "source": [
    "## 文件的创建与删除\n",
    "- os 模块中的 mkdir() 可以完成对文件的创建操作，函数格式：mkdir(创建文件的路径)\n",
    "\n",
    "    注意：如果要创建文件夹，则用命令：os.makedirs(\"创建文件夹的路径\")\n",
    "\n",
    "- os 模块中的 remove() 可以完成对文件的删除操作，函数格式：remove(待删除的文件名)\n",
    "\n",
    "    注意：如果要删除文件夹，则用命令：os.rmdir(删除文件夹的路径)"
   ]
  },
  {
   "cell_type": "code",
   "execution_count": 39,
   "metadata": {},
   "outputs": [],
   "source": [
    "import os\n",
    "# os.mkdir(\"./document_test/create_text\")\n",
    "# os.makedirs(\"./document_test/create_document_text\")\n"
   ]
  },
  {
   "cell_type": "markdown",
   "metadata": {},
   "source": [
    "# bug思考？\n",
    "    += 和 = 的区别\n",
    "\n",
    "    引用和引用传参"
   ]
  },
  {
   "cell_type": "code",
   "execution_count": 40,
   "metadata": {},
   "outputs": [
    {
     "name": "stdout",
     "output_type": "stream",
     "text": [
      "[1, 2, 3, 1, 2, 3]\n"
     ]
    }
   ],
   "source": [
    "a = [1, 2, 3]\n",
    "\n",
    "def add_1(arr):\n",
    "    arr += arr\n",
    "\n",
    "add_1(a)\n",
    "print(a)"
   ]
  },
  {
   "cell_type": "code",
   "execution_count": 43,
   "metadata": {},
   "outputs": [
    {
     "name": "stdout",
     "output_type": "stream",
     "text": [
      "[1, 2, 3]\n"
     ]
    }
   ],
   "source": [
    "a = [1, 2, 3]\n",
    "\n",
    "def add_2(arr):\n",
    "    arr = arr + arr\n",
    "\n",
    "add_2(a)\n",
    "print(a)"
   ]
  }
 ],
 "metadata": {
  "kernelspec": {
   "display_name": "study",
   "language": "python",
   "name": "study"
  },
  "language_info": {
   "codemirror_mode": {
    "name": "ipython",
    "version": 3
   },
   "file_extension": ".py",
   "mimetype": "text/x-python",
   "name": "python",
   "nbconvert_exporter": "python",
   "pygments_lexer": "ipython3",
   "version": "3.11.5"
  }
 },
 "nbformat": 4,
 "nbformat_minor": 2
}

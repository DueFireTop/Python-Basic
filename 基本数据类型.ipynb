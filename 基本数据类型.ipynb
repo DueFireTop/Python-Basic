{
 "cells": [
  {
   "cell_type": "code",
   "execution_count": 1,
   "metadata": {},
   "outputs": [
    {
     "name": "stdout",
     "output_type": "stream",
     "text": [
      "torch version: 2.0.1\n",
      "True\n"
     ]
    }
   ],
   "source": [
    "import torch\n",
    "print(\"torch version: \" + torch.__version__)\n",
    "print(torch.cuda.is_available())"
   ]
  },
  {
   "cell_type": "markdown",
   "metadata": {},
   "source": [
    "# 关于切换环境之后 import torch 失败\n",
    "C:\\Users\\DueFireTop-NUC\\AppData\\Roaming\\jupyter\\kernels 找到环境名，更改 kernel.json 文件中的python.exe位置"
   ]
  },
  {
   "cell_type": "code",
   "execution_count": 1,
   "metadata": {},
   "outputs": [
    {
     "data": {
      "text/plain": [
       "'d:\\\\work_tools\\\\Anaconda\\\\program\\\\envs\\\\pytorch_gpu\\\\python.exe'"
      ]
     },
     "execution_count": 1,
     "metadata": {},
     "output_type": "execute_result"
    }
   ],
   "source": [
    "# pytorch_gpu\n",
    "import sys\n",
    "sys.executable"
   ]
  },
  {
   "cell_type": "code",
   "execution_count": 2,
   "metadata": {},
   "outputs": [
    {
     "data": {
      "text/plain": [
       "'d:\\\\work_tools\\\\Anaconda\\\\program\\\\envs\\\\study\\\\python.exe'"
      ]
     },
     "execution_count": 2,
     "metadata": {},
     "output_type": "execute_result"
    }
   ],
   "source": [
    "# study\n",
    "import sys\n",
    "sys.executable"
   ]
  },
  {
   "cell_type": "markdown",
   "metadata": {},
   "source": [
    "# 1. Numbers\n",
    "- int\n",
    "\n",
    "    True = 1, False = 0\n",
    "- float\n",
    "\n",
    "    浮点型也可以使用科学计数法表示 ($2.5e2 = 2.5 \\times 10^2 = 250$)\n",
    "- complex\n",
    "\n",
    "    复数由实数部分和虚数部分构成，可以用 $a + bj$ 或 complex(a, b) 表示，复数的实部 a 和虚部的 b 都是浮点型"
   ]
  },
  {
   "cell_type": "code",
   "execution_count": 8,
   "metadata": {},
   "outputs": [
    {
     "name": "stdout",
     "output_type": "stream",
     "text": [
      "<class 'int'>\n",
      "1\n",
      "<class 'float'>\n",
      "1.0\n",
      "<class 'complex'>\n",
      "3e+26j\n"
     ]
    }
   ],
   "source": [
    "a = 1\n",
    "print(type(a))\n",
    "print(a)\n",
    "\n",
    "b = 1.0\n",
    "print(type(b))\n",
    "print(b)\n",
    "\n",
    "c = 3e+26j\n",
    "print(type(c))\n",
    "print(c)"
   ]
  },
  {
   "cell_type": "code",
   "execution_count": 9,
   "metadata": {},
   "outputs": [
    {
     "name": "stdout",
     "output_type": "stream",
     "text": [
      "<class 'int'>\n",
      "<class 'float'>\n",
      "1\n"
     ]
    }
   ],
   "source": [
    "d = int(b)\n",
    "print(type(d))\n",
    "print(type(b))\n",
    "print(d)"
   ]
  },
  {
   "cell_type": "code",
   "execution_count": 5,
   "metadata": {},
   "outputs": [
    {
     "name": "stdout",
     "output_type": "stream",
     "text": [
      "2.6666666666666665\n",
      "2\n",
      "2.0\n"
     ]
    }
   ],
   "source": [
    "a = 8\n",
    "b = 3\n",
    "\n",
    "c = a / b # 除法\n",
    "d = a // b # 整除（向下取整）\n",
    "\n",
    "print(c)\n",
    "print(d)\n",
    "\n",
    "b = 3.0\n",
    "d = a // b\n",
    "print(d) # 整除的输出并不一定是整数，也可能是小数"
   ]
  },
  {
   "cell_type": "markdown",
   "metadata": {},
   "source": [
    "### 内置函数\n",
    "1. 求绝对值 abs(x)\n",
    "2. 最大值最小值 max(x), min(x)\n",
    "3. 随机数 random()"
   ]
  },
  {
   "cell_type": "code",
   "execution_count": 7,
   "metadata": {},
   "outputs": [
    {
     "name": "stdout",
     "output_type": "stream",
     "text": [
      "-7\n",
      "7\n"
     ]
    }
   ],
   "source": [
    "# 绝对值\n",
    "a = -7\n",
    "b = abs(a)\n",
    "print(a)\n",
    "print(b)"
   ]
  },
  {
   "cell_type": "code",
   "execution_count": 8,
   "metadata": {},
   "outputs": [
    {
     "name": "stdout",
     "output_type": "stream",
     "text": [
      "0.3366541758781241\n"
     ]
    }
   ],
   "source": [
    "import random\n",
    "print(random.random())"
   ]
  },
  {
   "cell_type": "markdown",
   "metadata": {},
   "source": [
    "# 2. String\n",
    "字符串是Python中最常用的数据类型，我们可以使用引号 (' 或 \"\") 来创建字符串\n",
    "- python访问字符串，可以使用方括号 [] 来截取字符串\n",
    "- python字符串更新，可以截取字符串的一部分并与其他字段进行拼接\n",
    "- python字符串的拆分，可以按照某个元素对字符串进行切分\n",
    "- python转义字符，需要在字符中使用特殊字符时，python使用反斜杠 \\ 转义字符\n",
    "- python字符串运算符 + *\n",
    "- python字符串格式化\n"
   ]
  },
  {
   "cell_type": "code",
   "execution_count": 24,
   "metadata": {},
   "outputs": [
    {
     "name": "stdout",
     "output_type": "stream",
     "text": [
      "hello world\n",
      "-----------------拆分-----------------\n",
      "['hello', 'world']\n",
      "-----------------拼接-----------------\n",
      "hello worldxiaoming\n",
      "-----------------索引-----------------\n",
      "o\n",
      "d\n",
      "-----------------切片-----------------\n",
      "ello wor\n",
      "el o\n",
      "-----------------转义-----------------\n",
      "hello world \n",
      " haha\n",
      "-----------------格式化-----------------\n",
      "我叫 小明, 今年 10 岁\n"
     ]
    }
   ],
   "source": [
    "var = \"hello world\"\n",
    "print(var)\n",
    "\n",
    "print(\"-----------------拆分-----------------\")\n",
    "# 字符串拆分 split\n",
    "new_var = var.split(\" \") # 用空格拆分\n",
    "print(new_var)\n",
    "\n",
    "print(\"-----------------拼接-----------------\")\n",
    "# 字符串拼接\n",
    "var2 = \"xiaoming\"\n",
    "con_var = var + var2\n",
    "print(con_var)\n",
    "\n",
    "print(\"-----------------索引-----------------\")\n",
    "# 索引\n",
    "print(var[4]) # 正索引\n",
    "print(var[-1]) # 负索引\n",
    "\n",
    "print(\"-----------------切片-----------------\")\n",
    "# 切片 [start : end: step]，左闭右开\n",
    "print(var[1:-2]) # 默认步长为1\n",
    "print(var[1:-2:2]) # 步长为2\n",
    "\n",
    "print(\"-----------------转义-----------------\")\n",
    "# 转义\n",
    "print(\"hello world \\n haha\")\n",
    "\n",
    "print(\"-----------------格式化-----------------\")\n",
    "# 格式化\n",
    "name = \"小明\"\n",
    "old = 10\n",
    "print(\"我叫 %s, 今年 %d 岁\" %(name, old))\n"
   ]
  },
  {
   "cell_type": "markdown",
   "metadata": {},
   "source": [
    "# 3. List\n",
    "序列是python中最基本的数据结构。\n",
    "序列的每个值都有对应的位置值，称之为索引，第一个索引是0，第二个索引是1，以此类推，List也有负索引\n",
    "- python有6个序列的内置类型，但最常见的是列表类型\n",
    "- 列表都可以进行的操作包括 索引、切片、加、乘、检查成员\n",
    "- 此外，python已经内置函数来确定序列的长度以及确定最大和最小的元素的方法\n",
    "- 列表的数据项不需要具有相同的类型，啥都能装\n"
   ]
  },
  {
   "cell_type": "code",
   "execution_count": 53,
   "metadata": {},
   "outputs": [
    {
     "name": "stdout",
     "output_type": "stream",
     "text": [
      "['red', 'blue', 'yellow', 'white']\n",
      "red\n",
      "yellow\n",
      "['red', 'blue', 'yellow']\n",
      "['red', 'yellow']\n",
      "['red', 'green', 'yellow', 'white']\n",
      "['red', 'yellow', 'white']\n",
      "['red', 'yellow', 'white', 1, 3, 5, 2, 10]\n",
      "[1, 3, 5, 2, 10, 1, 3, 5, 2, 10, 1, 3, 5, 2, 10, 1, 3, 5, 2, 10]\n",
      "8\n",
      "10\n",
      "1\n",
      "False\n",
      "[['red', 'yellow', 'white'], [1, 3, 5, 2, 10]]\n",
      "True\n",
      "False\n",
      "[1, 'zero', 5, 7, 9, 'two', 13]\n",
      "1\n",
      "[1, 7, 8, 13, 60]\n",
      "[60, 13, 8, 7, 1]\n"
     ]
    }
   ],
   "source": [
    "my_list = [\"red\", \"blue\", \"yellow\", \"white\"]\n",
    "print(my_list)\n",
    "\n",
    "# 索引\n",
    "print(my_list[0])\n",
    "print(my_list[-2])\n",
    "\n",
    "# 切片\n",
    "print(my_list[0:-1])\n",
    "print(my_list[0:-1:2])\n",
    "\n",
    "# 索引元素进行更改\n",
    "my_list[1] = \"green\"\n",
    "print(my_list)\n",
    "\n",
    "# del\n",
    "del my_list[1]\n",
    "print(my_list)\n",
    "\n",
    "# 拼接 +\n",
    "my_list2 = [1, 3, 5, 2, 10]\n",
    "new_list = my_list + my_list2\n",
    "print(new_list)\n",
    "\n",
    "# 复制 *\n",
    "print(my_list2 * 4)\n",
    "\n",
    "# list的长度\n",
    "print(len(new_list))\n",
    "\n",
    "# list最大最小值\n",
    "print(max(my_list2))\n",
    "print(min(my_list2))\n",
    "\n",
    "# 关键字 in 判断一个元素是否在list中\n",
    "print(4 in my_list2)\n",
    "\n",
    "# 列表嵌套\n",
    "list3 = [my_list, my_list2]\n",
    "print(list3)\n",
    "\n",
    "# 比较\n",
    "import operator\n",
    "a = [1, 2]\n",
    "b = [1, 2]\n",
    "c = [4, 2]\n",
    "print(operator.eq(a, b))\n",
    "print(operator.eq(a, c))\n",
    "\n",
    "# 插入\n",
    "list2 = [1, 5, 7, 9, 13]\n",
    "list2.insert(1, \"zero\")\n",
    "list2.insert(-1, \"two\")\n",
    "print(list2)\n",
    "\n",
    "# 统计 count()\n",
    "print(list2.count(7))\n",
    "\n",
    "# 排序\n",
    "list5 = [1, 8, 7, 60, 13]\n",
    "list5.sort() # sort() 没有返回值，默认升序\n",
    "print(list5)\n",
    "list5.sort(reverse=True) # 降序排序\n",
    "print(list5)\n"
   ]
  },
  {
   "cell_type": "markdown",
   "metadata": {},
   "source": [
    "# 4. Tuple\n",
    "python的元组与列表类似，不同之处在于元组的元素不能修改\n",
    "- 元组使用小括号()，列表使用方括号[]\n",
    "- 元组创建简单，只需要在括号内添加元素，并使用逗号隔开即可\n",
    "- 元组的增删改查"
   ]
  },
  {
   "cell_type": "code",
   "execution_count": 63,
   "metadata": {},
   "outputs": [
    {
     "name": "stdout",
     "output_type": "stream",
     "text": [
      "<class 'int'>\n",
      "<class 'tuple'>\n",
      "<class 'tuple'>\n",
      "tuple1_id = 2521473061344\n",
      "(1, 5, 7, 9, 2, 3, 9, 8, 5)\n",
      "(2, 3, 5, 1)\n",
      "new_tuple1_id = 2521473288448\n"
     ]
    }
   ],
   "source": [
    "tuple_0 = (999)\n",
    "print(type(tuple_0)) # 括号内只有一个数值时，是int类型\n",
    "tuple_0 = (999,)\n",
    "print(type(tuple_0))\n",
    "\n",
    "tuple1 = (1, 5, 7, 9, 2, 3)\n",
    "print(type(tuple1))\n",
    "print(\"tuple1_id = \" + str(id(tuple1)))\n",
    "\n",
    "# 增\n",
    "tuple2 = (9, 8, 5)\n",
    "print(tuple1 + tuple2)\n",
    "\n",
    "# 删\n",
    "del tuple_0 # 把整个元组删掉\n",
    "\n",
    "# 改 不可以\n",
    "tuple1 = (2, 3, 5, 1)\n",
    "print(tuple1)\n",
    "print(\"new_tuple1_id = \" + str(id(tuple1)))\n",
    "\n",
    "# 查 正负索引\n",
    "\n",
    "# 拼接 +  复制 *\n"
   ]
  },
  {
   "cell_type": "markdown",
   "metadata": {},
   "source": [
    "# 5. Dictionary\n",
    "字典是另一种可变容器模型，可以存储任意类型对象\n",
    "- 字典的存储单元是成对出现的（key: value），对用冒号分割，每个对之间用逗号分隔，整个字段包括在花括号{}中\n",
    "- 字典中，键必须是唯一的，但值可以不唯一。且值可以取任何数据类型。但是，键必须是不可变的数据类型，如字符串、数字\n",
    "- 字典的增删改查\n"
   ]
  },
  {
   "cell_type": "code",
   "execution_count": 73,
   "metadata": {},
   "outputs": [
    {
     "name": "stdout",
     "output_type": "stream",
     "text": [
      "{1: 'red', 2: 'blue', 3: 'black'}\n",
      "{1: 'red', 2: 'blue', 3: 'black', '绿色': 'green'}\n",
      "{1: 'red', 2: 'blue', 3: 'black', '绿色': 'new green'}\n",
      "{1: 'red', 2: 'blue', 3: 'black'}\n",
      "red\n"
     ]
    }
   ],
   "source": [
    "dict1 = {1:\"red\", 2:\"blue\", 3:\"black\"}\n",
    "print(dict1)\n",
    "\n",
    "# 增\n",
    "dict1['绿色'] = \"green\"\n",
    "print(dict1)\n",
    "\n",
    "# 改\n",
    "dict1[\"绿色\"] = \"new green\"\n",
    "print(dict1)\n",
    "\n",
    "# 删\n",
    "del dict1[\"绿色\"]\n",
    "print(dict1)\n",
    "# del dict1 # 删除整个字典\n",
    "\n",
    "# 查\n",
    "print(dict1[1])"
   ]
  },
  {
   "cell_type": "markdown",
   "metadata": {},
   "source": [
    "# 6. Set\n",
    "集合（set）是一个无序的不重复元素序列\n",
    "- 可以使用大括号{}或set()函数创建集合，注意：创建一个空集合必须用set()，因为{}是用来创建一个空字典\n",
    "- 由于集合的性质之一是存放不重复的元素，所以可以用于去重功能\n",
    "- 集合的增删改查"
   ]
  },
  {
   "cell_type": "code",
   "execution_count": 2,
   "metadata": {},
   "outputs": [
    {
     "name": "stdout",
     "output_type": "stream",
     "text": [
      "{1, 2, 3, 4, 5, 6, 10, 56}\n",
      "[1, 2, 3, 4, 5, 6, 10, 56]\n"
     ]
    }
   ],
   "source": [
    "set1 = {1, 2, 3, 2, 3, 4, 56, 5, 6, 5, 4, 1, 1, 10}\n",
    "print(set1)\n",
    "\n",
    "new_list = list(set1)\n",
    "print(new_list)"
   ]
  }
 ],
 "metadata": {
  "kernelspec": {
   "display_name": "study",
   "language": "python",
   "name": "study"
  },
  "language_info": {
   "codemirror_mode": {
    "name": "ipython",
    "version": 3
   },
   "file_extension": ".py",
   "mimetype": "text/x-python",
   "name": "python",
   "nbconvert_exporter": "python",
   "pygments_lexer": "ipython3",
   "version": "3.11.5"
  },
  "orig_nbformat": 4
 },
 "nbformat": 4,
 "nbformat_minor": 2
}
